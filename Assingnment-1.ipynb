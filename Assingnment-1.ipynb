{
 "cells": [
  {
   "cell_type": "markdown",
   "id": "4a417525-1458-4d46-acaa-4e1b8b21fd1c",
   "metadata": {},
   "source": [
    "Q1. Create one variable containing following type of data:\n",
    "(i) string\n",
    "(ii) list\n",
    "(iii) float\n",
    "(iv) tuple"
   ]
  },
  {
   "cell_type": "code",
   "execution_count": null,
   "id": "36a36165-52fc-4f6a-b78c-ca78279b71c6",
   "metadata": {},
   "outputs": [],
   "source": [
    "a = \"Pratik\""
   ]
  },
  {
   "cell_type": "code",
   "execution_count": 2,
   "id": "cf981b7f-8bd9-46d2-b006-632d2bd37be6",
   "metadata": {},
   "outputs": [
    {
     "data": {
      "text/plain": [
       "str"
      ]
     },
     "execution_count": 2,
     "metadata": {},
     "output_type": "execute_result"
    }
   ],
   "source": [
    "type(a)"
   ]
  },
  {
   "cell_type": "code",
   "execution_count": 3,
   "id": "97e37d79-cdf5-45c6-b2b0-5123fd439c2f",
   "metadata": {},
   "outputs": [],
   "source": [
    "b = 10"
   ]
  },
  {
   "cell_type": "code",
   "execution_count": 4,
   "id": "40982f38-36ec-4657-b853-a251e5e99040",
   "metadata": {},
   "outputs": [
    {
     "data": {
      "text/plain": [
       "int"
      ]
     },
     "execution_count": 4,
     "metadata": {},
     "output_type": "execute_result"
    }
   ],
   "source": [
    "type(b)"
   ]
  },
  {
   "cell_type": "code",
   "execution_count": 5,
   "id": "8d41d8f7-e1c4-49b3-b264-7d845704a1b0",
   "metadata": {},
   "outputs": [],
   "source": [
    "l = [ 2 , 3 , 4 , \"Pratik\" , 40.45 ]"
   ]
  },
  {
   "cell_type": "code",
   "execution_count": 6,
   "id": "d6d5a1c8-81bb-4b65-ad3a-afb454725dd5",
   "metadata": {},
   "outputs": [
    {
     "data": {
      "text/plain": [
       "list"
      ]
     },
     "execution_count": 6,
     "metadata": {},
     "output_type": "execute_result"
    }
   ],
   "source": [
    "type(l)"
   ]
  },
  {
   "cell_type": "code",
   "execution_count": 3,
   "id": "a0e20b9d-cc79-41ad-9531-72fcab08ff1d",
   "metadata": {},
   "outputs": [],
   "source": [
    "T = (4,)"
   ]
  },
  {
   "cell_type": "code",
   "execution_count": 4,
   "id": "ed97af73-c677-46b4-9cc1-e55ca6359cb0",
   "metadata": {},
   "outputs": [
    {
     "data": {
      "text/plain": [
       "tuple"
      ]
     },
     "execution_count": 4,
     "metadata": {},
     "output_type": "execute_result"
    }
   ],
   "source": [
    "type(T)"
   ]
  },
  {
   "cell_type": "markdown",
   "id": "79b815f1-5a6c-4906-bcfc-12f4af805158",
   "metadata": {},
   "source": [
    "Q2. Given are some following variables containing data:\n",
    "(i) var1 = ‘ ‘\n",
    "(ii) var2 = ‘[ DS , ML , Python]’\n",
    "(iii) var3 = [ ‘DS’ , ’ML’ , ‘Python’ ]\n",
    "(iv) var4 = 1.\n",
    "What will be the data type of the above given variable."
   ]
  },
  {
   "cell_type": "markdown",
   "id": "93dac890-c4b0-4c2f-8c24-597005d4c7fe",
   "metadata": {},
   "source": [
    "(i) var1: String\n",
    "(ii) var2: String\n",
    "(iii) var3: List of strings\n",
    "(iv) var4: Float"
   ]
  },
  {
   "cell_type": "markdown",
   "id": "c7acd1ac-6712-4ae7-8076-97de81772866",
   "metadata": {},
   "source": [
    "Q3. Explain the use of the following operators using an example:\n",
    "(i) /\n",
    "(ii) %\n",
    "(iii) //\n",
    "(iv) **"
   ]
  },
  {
   "cell_type": "code",
   "execution_count": 1,
   "id": "319fb6f8-9124-42ea-9259-379117b6882d",
   "metadata": {},
   "outputs": [
    {
     "name": "stdout",
     "output_type": "stream",
     "text": [
      "2.0\n"
     ]
    }
   ],
   "source": [
    "# Use to divide numbers\n",
    "a = 10 \n",
    "b = 5\n",
    "print(a/b)"
   ]
  },
  {
   "cell_type": "code",
   "execution_count": 2,
   "id": "fe8b210b-8aed-4494-9e68-2e39475e3aff",
   "metadata": {},
   "outputs": [
    {
     "name": "stdout",
     "output_type": "stream",
     "text": [
      "1\n"
     ]
    }
   ],
   "source": [
    "# Use to find the reminder after division \n",
    "c = 10\n",
    "d = 3\n",
    "print(c%d)"
   ]
  },
  {
   "cell_type": "code",
   "execution_count": 3,
   "id": "b2b2e380-4bc1-4f74-91de-9bb0d2733db8",
   "metadata": {},
   "outputs": [
    {
     "name": "stdout",
     "output_type": "stream",
     "text": [
      "3\n"
     ]
    }
   ],
   "source": [
    "# Use to find the integer \n",
    "c = 10\n",
    "d = 3\n",
    "print(c//d)"
   ]
  },
  {
   "cell_type": "code",
   "execution_count": 4,
   "id": "115c0f38-db33-452e-9276-e864520158c1",
   "metadata": {},
   "outputs": [
    {
     "data": {
      "text/plain": [
       "8"
      ]
     },
     "execution_count": 4,
     "metadata": {},
     "output_type": "execute_result"
    }
   ],
   "source": [
    "# Use to find squre , cube & exponetioal fuctions \n",
    "2**3"
   ]
  },
  {
   "cell_type": "markdown",
   "id": "8deb6343-9367-4de2-8746-174f42573540",
   "metadata": {},
   "source": [
    "Q4. Create a list of length 10 of your choice containing multiple types of data. Using for loop print the\n",
    "element and its data type."
   ]
  },
  {
   "cell_type": "code",
   "execution_count": 6,
   "id": "c67d4414-d6d4-48d1-bfed-152c8b20c189",
   "metadata": {},
   "outputs": [],
   "source": [
    "l = [20 , \"Pratik\" , True , 19 , 45.48 , 12 , \"pwskills\" , 43 , False , 134 ]"
   ]
  },
  {
   "cell_type": "code",
   "execution_count": 8,
   "id": "c99aac4f-c963-49b2-937c-9370f76f82e4",
   "metadata": {},
   "outputs": [
    {
     "name": "stdout",
     "output_type": "stream",
     "text": [
      "<class 'int'>\n",
      "20\n",
      "<class 'str'>\n",
      "Pratik\n",
      "<class 'bool'>\n",
      "True\n",
      "<class 'int'>\n",
      "19\n",
      "<class 'float'>\n",
      "45.48\n",
      "<class 'int'>\n",
      "12\n",
      "<class 'str'>\n",
      "pwskills\n",
      "<class 'int'>\n",
      "43\n",
      "<class 'bool'>\n",
      "False\n",
      "<class 'int'>\n",
      "134\n"
     ]
    }
   ],
   "source": [
    "for i in l :\n",
    "    print(type(i))\n",
    "    print(i)"
   ]
  },
  {
   "cell_type": "markdown",
   "id": "77500bc7-a738-406f-b056-182b101434bb",
   "metadata": {},
   "source": [
    "Q5. Using a while loop, verify if the number A is purely divisible by number B and if so then how many\n",
    "times it can be divisible."
   ]
  },
  {
   "cell_type": "code",
   "execution_count": 11,
   "id": "490a7940-8070-45f0-8214-e9d3934e9096",
   "metadata": {},
   "outputs": [
    {
     "name": "stdout",
     "output_type": "stream",
     "text": [
      "Number A can be divided by number B 1 times.\n"
     ]
    }
   ],
   "source": [
    "A = 12\n",
    "B = 6\n",
    "\n",
    "count = 0\n",
    "\n",
    "while A % B == 0:\n",
    "    A = A / B\n",
    "    count += 1\n",
    "\n",
    "print(f\"Number A can be divided by number B {count} times.\")\n"
   ]
  },
  {
   "cell_type": "markdown",
   "id": "5e62aa28-e61d-4bfc-aec1-c4fdc3f6fca9",
   "metadata": {},
   "source": [
    "Q6. Create a list containing 25 int type data. Using for loop and if-else condition print if the element is\n",
    "divisible by 3 or not."
   ]
  },
  {
   "cell_type": "code",
   "execution_count": 12,
   "id": "7cb171ad-e619-4776-be3a-ba95259f43cc",
   "metadata": {},
   "outputs": [],
   "source": [
    "l = [1 , 2 , 3 , 4 , 5 , 6 , 7 , 8 , 12 , 19 , 82 , 33 , 48 , 15 , 65 , 79 , 98 , 12]"
   ]
  },
  {
   "cell_type": "code",
   "execution_count": 18,
   "id": "7d987df1-8c46-4dd0-b601-3188faded5c0",
   "metadata": {},
   "outputs": [
    {
     "name": "stdout",
     "output_type": "stream",
     "text": [
      "The numbers which are divisible by 3---> 3\n",
      "The numbers which are divisible by 3---> 6\n",
      "The numbers which are divisible by 3---> 12\n",
      "The numbers which are divisible by 3---> 33\n",
      "The numbers which are divisible by 3---> 48\n",
      "The numbers which are divisible by 3---> 15\n",
      "The numbers which are divisible by 3---> 12\n"
     ]
    }
   ],
   "source": [
    "for i in l :\n",
    "    if i%3 == 0:\n",
    "        print(\"The numbers which are divisible by 3--->\",i)\n"
   ]
  },
  {
   "cell_type": "code",
   "execution_count": 19,
   "id": "0a97694b-6c0f-4219-8d60-a0a3c92bce40",
   "metadata": {},
   "outputs": [
    {
     "name": "stdout",
     "output_type": "stream",
     "text": [
      "The nubers is not divisble by 3--> 1\n",
      "The nubers is not divisble by 3--> 2\n",
      "The nubers is not divisble by 3--> 4\n",
      "The nubers is not divisble by 3--> 5\n",
      "The nubers is not divisble by 3--> 7\n",
      "The nubers is not divisble by 3--> 8\n",
      "The nubers is not divisble by 3--> 19\n",
      "The nubers is not divisble by 3--> 82\n",
      "The nubers is not divisble by 3--> 65\n",
      "The nubers is not divisble by 3--> 79\n",
      "The nubers is not divisble by 3--> 98\n"
     ]
    }
   ],
   "source": [
    "for i in l :\n",
    "    if i%3 != 0:\n",
    "        print(\"The nubers is not divisble by 3-->\",i)\n",
    "        "
   ]
  },
  {
   "cell_type": "markdown",
   "id": "36b87094-77b8-4fe1-bcdf-e098c50c4efc",
   "metadata": {},
   "source": [
    "Q7. What do you understand about mutable and immutable data types? Give examples for both showing\n",
    "this property."
   ]
  },
  {
   "cell_type": "code",
   "execution_count": 20,
   "id": "77a8f63e-b163-4d4b-996a-c5baeeb54269",
   "metadata": {},
   "outputs": [],
   "source": [
    "# Mutable data is we can change the number or text in given list \n",
    "l = [20 , \"Pratik\" , True , 19 , 45.48 , 12 , \"pwskills\" , 43 , False , 134 ]"
   ]
  },
  {
   "cell_type": "code",
   "execution_count": 22,
   "id": "6fb54500-4a47-44ac-9475-d4db990c6c8d",
   "metadata": {},
   "outputs": [
    {
     "name": "stdout",
     "output_type": "stream",
     "text": [
      "[20, 'Pratik', True, 19, 45.48, 12, 'pwskills', 43, False, 134]\n"
     ]
    }
   ],
   "source": [
    "print(l)"
   ]
  },
  {
   "cell_type": "code",
   "execution_count": 23,
   "id": "8125b870-6ebb-4608-9024-f95fe39567f5",
   "metadata": {},
   "outputs": [],
   "source": [
    "l[0] = 10"
   ]
  },
  {
   "cell_type": "code",
   "execution_count": 24,
   "id": "6427394a-4047-453b-8999-a2d2fd824e1e",
   "metadata": {},
   "outputs": [
    {
     "name": "stdout",
     "output_type": "stream",
     "text": [
      "[10, 'Pratik', True, 19, 45.48, 12, 'pwskills', 43, False, 134]\n"
     ]
    }
   ],
   "source": [
    "print(l)"
   ]
  },
  {
   "cell_type": "code",
   "execution_count": 30,
   "id": "0ed163c9-1c12-4601-b956-f2cd94e52ff1",
   "metadata": {},
   "outputs": [],
   "source": [
    "# Immutable data we cant change after creating data \n",
    "l = \"Pratik\""
   ]
  },
  {
   "cell_type": "code",
   "execution_count": 31,
   "id": "9ae9c135-98f7-443c-8117-f75234583fd4",
   "metadata": {},
   "outputs": [
    {
     "name": "stdout",
     "output_type": "stream",
     "text": [
      "Pratik\n"
     ]
    }
   ],
   "source": [
    "print(l)"
   ]
  },
  {
   "cell_type": "code",
   "execution_count": 34,
   "id": "78196ac9-5c12-40f5-8800-ba768bea77ea",
   "metadata": {},
   "outputs": [
    {
     "ename": "TypeError",
     "evalue": "'str' object does not support item assignment",
     "output_type": "error",
     "traceback": [
      "\u001b[0;31m---------------------------------------------------------------------------\u001b[0m",
      "\u001b[0;31mTypeError\u001b[0m                                 Traceback (most recent call last)",
      "Cell \u001b[0;32mIn[34], line 1\u001b[0m\n\u001b[0;32m----> 1\u001b[0m \u001b[43ml\u001b[49m\u001b[43m \u001b[49m\u001b[43m[\u001b[49m\u001b[38;5;241;43m0\u001b[39;49m\u001b[43m]\u001b[49m \u001b[38;5;241m=\u001b[39m \u001b[38;5;241m10\u001b[39m\n",
      "\u001b[0;31mTypeError\u001b[0m: 'str' object does not support item assignment"
     ]
    }
   ],
   "source": [
    "l [0] = 10"
   ]
  }
 ],
 "metadata": {
  "kernelspec": {
   "display_name": "Python 3 (ipykernel)",
   "language": "python",
   "name": "python3"
  },
  "language_info": {
   "codemirror_mode": {
    "name": "ipython",
    "version": 3
   },
   "file_extension": ".py",
   "mimetype": "text/x-python",
   "name": "python",
   "nbconvert_exporter": "python",
   "pygments_lexer": "ipython3",
   "version": "3.10.8"
  }
 },
 "nbformat": 4,
 "nbformat_minor": 5
}
